{
 "cells": [
  {
   "cell_type": "code",
   "execution_count": 10,
   "metadata": {},
   "outputs": [],
   "source": [
    "from sklearn.model_selection import GridSearchCV\n",
    "import numpy as np\n",
    "import matplotlib.pyplot as plt\n",
    "def warn(*args, **kwargs):\n",
    "    pass\n",
    "import warnings\n",
    "warnings.warn = warn\n",
    "\n",
    "X = np.load('data/X_train.npy')\n",
    "y = np.genfromtxt('data/train_labels_new.csv', delimiter=' ', dtype=np.float32)\n",
    "y_cl = np.argmax(y, axis=1)\n",
    "\n",
    "ind_train = np.concatenate((np.where(y_cl == 0)[0][0:130], np.where(y_cl == 1)[0][:35], np.where(y_cl == 2)[0][:8], np.where(y_cl == 3)[0][:4]))\n",
    "ind_test = list(set(range(0, 290)) - set(ind_train))\n",
    "\n",
    "X_train = np.take(X, ind_train, axis=0)\n",
    "y_train = np.take(y, ind_train, axis=0) # with y_cl maybe use no axis\n",
    "X_test = np.take(X, ind_test, axis=0)\n",
    "y_test = np.take(y, ind_test, axis=0)\n",
    "\n",
    "def sampleIt(X, y):\n",
    "    X_new = []; y_new = []; sample_w = []\n",
    "    for i, row_y in enumerate(y):\n",
    "        for cl, p_i in enumerate(row_y):\n",
    "            X_new.append(X[i])\n",
    "            y_new.append(cl)\n",
    "            sample_w.append(p_i)\n",
    "    return X_new, y_new, sample_w\n",
    "\n",
    "X_train, y_train, w_train = sampleIt(X_train, y_train)\n",
    "#X_test, y_test, w_test = sampleIt(X_test, y_test)"
   ]
  },
  {
   "cell_type": "code",
   "execution_count": 9,
   "metadata": {},
   "outputs": [
    {
     "data": {
      "image/png": "[encoded data removed]",
      "text/plain": [
       "<matplotlib.figure.Figure at 0x11031e160>"
      ]
     },
     "metadata": {},
     "output_type": "display_data"
    }
   ],
   "source": [
    "bins = [1, 282.10434686113894, 528.4350826042349, 635.7632261805744, 781.9301580581496, 962.0317275933281, 1079.2939329789033, 1246.3707282050862, 1393.0345691835053, 1721.8292294917992]\n",
    "plt.hist(X[0][(X[0] > 100) & (X[0] < 1650) ], 100, facecolor='blue', alpha=0.5, label='class 0')\n",
    "plt.hist(X[200][(X[200] > 100) & (X[200] < 1650) ], 100, facecolor='yellow', alpha=0.5, label='class 1')\n",
    "plt.hist(X[276][(X[276] > 100) & (X[276] < 1650) ], 100, facecolor='green', alpha=0.5, label='class 2')\n",
    "plt.hist(X[280][(X[280] > 100) & (X[280] < 1650) ], 100, facecolor='red', alpha=0.5, label='class 3')\n",
    "plt.xlabel('value'); plt.ylabel('n'); plt.legend(); plt.show()\n",
    "#plt.hist(y_cl, 4, facecolor='red', alpha=0.75)\n",
    "#plt.xlabel('class'); plt.ylabel('n'); plt.show()\n",
    "\n",
    "#from sklearn.metrics import accuracy_score\n",
    "#f1_score([0, 1, 2], [0, 2, 1], average='micro')"
   ]
  },
  {
   "cell_type": "code",
   "execution_count": 30,
   "metadata": {
    "slideshow": {
     "slide_type": "-"
    }
   },
   "outputs": [],
   "source": [
    "from sklearn.base import BaseEstimator, TransformerMixin\n",
    "import random\n",
    "random.seed(99)\n",
    "\n",
    "class SampleIt(BaseEstimator, TransformerMixin):\n",
    "    def __init__(self):\n",
    "        pass\n",
    "    def fit(self, X, y=None):\n",
    "        return self\n",
    "    def transform(self, X, y=None):\n",
    "        if y is None: return X\n",
    "        \n",
    "\n",
    "class RandomBinsExtraction(BaseEstimator, TransformerMixin):\n",
    "    \"\"\"Build n bins with mean from values\"\"\"\n",
    "    def __init__(self, splits=610, hist_bins=None,\n",
    "        images_x_from=None, images_x_to=None,\n",
    "        images_y_from=None, images_y_to=None):\n",
    "\n",
    "        self.splits = splits\n",
    "        self.hist_bins = hist_bins\n",
    "\n",
    "        self.images_x_from = images_x_from\n",
    "        self.images_x_to = images_x_to\n",
    "        self.images_y_from = images_y_from\n",
    "        self.images_y_to = images_y_to\n",
    "        \n",
    "    def fit(self, X, y=None):\n",
    "        return self\n",
    "\n",
    "    def transform(self, X, y=None):\n",
    "        X_new = []\n",
    "        if self.hist_bins is None:\n",
    "            self.hist_bins = [[1, 349.57938688820047, 514.3746932858628, 669.4300432252885, 813.46816874832098, 950.71415810026383, 1094.3331288316649, 1245.2794633697374, 1390.4908175139283, 1700]]\n",
    "            self.hist_bins = [[1, 298.8218117717887, 415.59953383322301, 529.00853569772312, 637.92188924633831, 741.69761514701986, 840.16357827183447, 936.05487410467663, 1034.8715039519698, 1139.5417907370197, 1246.5076326626559, 1350.2613661802782, 1451.0932380428474, 1700]]\n",
    "\n",
    "        first = True\n",
    "        for row in X:\n",
    "            row = row[600000:5700000]\n",
    "            # This is feature selection \n",
    "            if self.images_x_from is not None and self.images_x_to is not None:\n",
    "                images = np.split(row, 176)[self.images_x_from : self.images_x_to]\n",
    "                \n",
    "                # x needs to be set for this, but don't mind at the moment\n",
    "                if self.images_y_from is not None and self.images_y_to is not None:\n",
    "                    images_new = []\n",
    "                    for image in images:\n",
    "                        images_new.append(np.split(image, 208)[self.images_y_from : self.images_y_to])\n",
    "                    images = np.array(images_new)\n",
    "\n",
    "                row = np.array(images).flatten()\n",
    "               \n",
    "                \n",
    "            splits = np.array_split(row, int(self.splits))\n",
    "                \n",
    "            features = []\n",
    "            for j, split in enumerate(splits):\n",
    "                i = int(j / len(splits) * len(self.hist_bins))\n",
    "                \n",
    "                features.append(np.histogram(split, bins=self.hist_bins[i])[0])\n",
    "\n",
    "            #print(len(features))\n",
    "            X_new.append(np.array(features).flatten())\n",
    "\n",
    "        if first:\n",
    "            #print(\"features: \"+str(len(features)))\n",
    "            first = False\n",
    "\n",
    "        return X_new\n",
    "    \n",
    "from sklearn.pipeline import Pipeline\n",
    "from sklearn.preprocessing import StandardScaler, Normalizer\n",
    "from sklearn.feature_selection import VarianceThreshold\n",
    "from sklearn.linear_model import LogisticRegression\n",
    "from sklearn.svm import LinearSVC\n",
    "#from sklearn.decomposition import TruncatedSVD\n",
    "\n",
    "pipe = Pipeline([\n",
    "    ('BinsExtraction', RandomBinsExtraction(splits=1000)),\n",
    "    #('vct', VarianceThreshold(threshold=1.0)),\n",
    "    ('scaler', StandardScaler()),\n",
    "    ('logreg', LogisticRegression(C=1.0, solver='newton-cg', n_jobs=-1))\n",
    "    #('linearSVC', LinearSVC(C=1.0, max_iter=1000))\n",
    "])"
   ]
  },
  {
   "cell_type": "code",
   "execution_count": 32,
   "metadata": {
    "scrolled": false
   },
   "outputs": [
    {
     "name": "stdout",
     "output_type": "stream",
     "text": [
      "[[  8.41601908e-01   1.28336638e-01   2.86357738e-02   1.42569118e-03]\n",
      " [  9.39290941e-01   4.91874218e-02   1.09751970e-02   5.46422903e-04]\n",
      " [  9.68432486e-01   2.55764928e-02   5.70688676e-03   2.84129172e-04]\n",
      " [  9.62777913e-01   3.01579461e-02   6.72914740e-03   3.35024524e-04]\n",
      " [  9.04758871e-01   7.71658495e-02   1.72180273e-02   8.57235165e-04]\n",
      " [  9.65372920e-01   2.80553959e-02   6.26000483e-03   3.11667303e-04]\n",
      " [  9.48987424e-01   4.13311720e-02   9.22223181e-03   4.59147879e-04]\n",
      " [  9.66955960e-01   2.67727822e-02   5.97381499e-03   2.97418737e-04]\n",
      " [  9.62777913e-01   3.01579461e-02   6.72914740e-03   3.35024524e-04]\n",
      " [  9.01414394e-01   7.98756108e-02   1.78226568e-02   8.87337839e-04]\n",
      " [  6.80691481e-01   2.58708775e-01   5.77257313e-02   2.87399488e-03]\n",
      " [  9.13968503e-01   6.97040632e-02   1.55530795e-02   7.74342217e-04]\n",
      " [  9.67706978e-01   2.61642914e-02   5.83804259e-03   2.90659023e-04]\n",
      " [  9.39290941e-01   4.91874218e-02   1.09751970e-02   5.46422903e-04]\n",
      " [  9.67706978e-01   2.61642914e-02   5.83804259e-03   2.90659023e-04]\n",
      " [  9.55497444e-01   3.60566564e-02   8.04532692e-03   4.00553254e-04]\n",
      " [  9.04758871e-01   7.71658495e-02   1.72180273e-02   8.57235165e-04]\n",
      " [  7.26712942e-01   2.21421495e-01   4.94058132e-02   2.45977077e-03]\n",
      " [  9.46008384e-01   4.37448584e-02   9.76079702e-03   4.85961471e-04]\n",
      " [  8.35438132e-01   1.33330598e-01   2.97500789e-02   1.48116925e-03]\n",
      " [  9.44428325e-01   4.50250618e-02   1.00464495e-02   5.00183261e-04]\n",
      " [  9.66178358e-01   2.74028406e-02   6.11440046e-03   3.04418063e-04]\n",
      " [  9.66955960e-01   2.67727822e-02   5.97381499e-03   2.97418737e-04]\n",
      " [  9.63674009e-01   2.94319075e-02   6.56714616e-03   3.26958951e-04]\n",
      " [  9.62777913e-01   3.01579461e-02   6.72914740e-03   3.35024524e-04]\n",
      " [  6.68174148e-01   2.68850535e-01   5.99886663e-02   2.98665976e-03]\n",
      " [  8.47503841e-01   1.23554796e-01   2.75688022e-02   1.37256982e-03]\n",
      " [  9.68432486e-01   2.55764928e-02   5.70688676e-03   2.84129172e-04]\n",
      " [  9.60885525e-01   3.16911787e-02   7.07125757e-03   3.52057192e-04]\n",
      " [  9.69133496e-01   2.50085425e-02   5.58016030e-03   2.77819810e-04]\n",
      " [  7.84070194e-01   1.74949706e-01   3.90365571e-02   1.94351573e-03]\n",
      " [  9.67706978e-01   2.61642914e-02   5.83804259e-03   2.90659023e-04]\n",
      " [  8.47503841e-01   1.23554796e-01   2.75688022e-02   1.37256982e-03]\n",
      " [  8.29002082e-01   1.38545200e-01   3.09136119e-02   1.53909810e-03]\n",
      " [  9.66178358e-01   2.74028406e-02   6.11440046e-03   3.04418063e-04]\n",
      " [  9.29204881e-01   5.73593453e-02   1.27985999e-02   6.37204736e-04]\n",
      " [  7.75430202e-01   1.81949973e-01   4.05985266e-02   2.02128175e-03]\n",
      " [  9.59886253e-01   3.25007774e-02   7.25190388e-03   3.61051032e-04]\n",
      " [  9.22068775e-01   6.31411150e-02   1.40886875e-02   7.01434445e-04]\n",
      " [  9.64538574e-01   2.87314132e-02   6.41084462e-03   3.19177168e-04]\n",
      " [  9.63674009e-01   2.94319075e-02   6.56714616e-03   3.26958951e-04]\n",
      " [  7.84070194e-01   1.74949706e-01   3.90365571e-02   1.94351573e-03]\n",
      " [  8.35438132e-01   1.33330598e-01   2.97500789e-02   1.48116925e-03]\n",
      " [  9.41072702e-01   4.77438383e-02   1.06530907e-02   5.30386111e-04]\n",
      " [  9.67706978e-01   2.61642914e-02   5.83804259e-03   2.90659023e-04]\n",
      " [  9.41072702e-01   4.77438383e-02   1.06530907e-02   5.30386111e-04]\n",
      " [  9.26925123e-01   5.92064150e-02   1.32107371e-02   6.57723867e-04]\n",
      " [  9.60885525e-01   3.16911787e-02   7.07125757e-03   3.52057192e-04]\n",
      " [  9.26925123e-01   5.92064150e-02   1.32107371e-02   6.57723867e-04]\n",
      " [  9.68432486e-01   2.55764928e-02   5.70688676e-03   2.84129172e-04]\n",
      " [  9.16784286e-01   6.74226880e-02   1.50440354e-02   7.48998427e-04]\n",
      " [  9.66178358e-01   2.74028406e-02   6.11440046e-03   3.04418063e-04]\n",
      " [  9.66955960e-01   2.67727822e-02   5.97381499e-03   2.97418737e-04]\n",
      " [  9.67706978e-01   2.61642914e-02   5.83804259e-03   2.90659023e-04]\n",
      " [  9.33489680e-01   5.38877212e-02   1.20239761e-02   5.98638551e-04]\n",
      " [  9.59886253e-01   3.25007774e-02   7.25190388e-03   3.61051032e-04]\n",
      " [  7.37219691e-01   2.12908760e-01   4.75063659e-02   2.36520264e-03]\n",
      " [  8.53154242e-01   1.18976735e-01   2.65472978e-02   1.32171216e-03]\n",
      " [  9.31391597e-01   5.55875935e-02   1.24032684e-02   6.17522397e-04]\n",
      " [  9.04758871e-01   7.71658495e-02   1.72180273e-02   8.57235165e-04]\n",
      " [  9.69133496e-01   2.50085425e-02   5.58016030e-03   2.77819810e-04]\n",
      " [  8.82323802e-01   9.53431129e-02   2.12739240e-02   1.05916627e-03]\n",
      " [  7.75430202e-01   1.81949973e-01   4.05985266e-02   2.02128175e-03]\n",
      " [  8.47503841e-01   1.23554796e-01   2.75688022e-02   1.37256982e-03]\n",
      " [  8.35438132e-01   1.33330598e-01   2.97500789e-02   1.48116925e-03]\n",
      " [  9.31391597e-01   5.55875935e-02   1.24032684e-02   6.17522397e-04]\n",
      " [  9.58849549e-01   3.33407335e-02   7.43932324e-03   3.70382098e-04]\n",
      " [  9.54293311e-01   3.70323025e-02   8.26302357e-03   4.11391695e-04]\n",
      " [  9.65372920e-01   2.80553959e-02   6.26000483e-03   3.11667303e-04]\n",
      " [  9.48987424e-01   4.13311720e-02   9.22223181e-03   4.59147879e-04]\n",
      " [  7.84070194e-01   1.74949706e-01   3.90365571e-02   1.94351573e-03]\n",
      " [  8.97921622e-01   8.27054903e-02   1.84540879e-02   9.18774982e-04]\n",
      " [  8.35438132e-01   1.33330598e-01   2.97500789e-02   1.48116925e-03]\n",
      " [  8.29002082e-01   1.38545200e-01   3.09136119e-02   1.53909810e-03]\n",
      " [  9.66178358e-01   2.74028406e-02   6.11440046e-03   3.04418063e-04]\n",
      " [  9.66955960e-01   2.67727822e-02   5.97381499e-03   2.97418737e-04]\n",
      " [  9.64538574e-01   2.87314132e-02   6.41084462e-03   3.19177168e-04]\n",
      " [  9.66178358e-01   2.74028406e-02   6.11440046e-03   3.04418063e-04]\n",
      " [  9.68432486e-01   2.55764928e-02   5.70688676e-03   2.84129172e-04]\n",
      " [  7.66434133e-01   1.89238712e-01   4.22248654e-02   2.10225233e-03]\n",
      " [  8.29002082e-01   1.38545200e-01   3.09136119e-02   1.53909810e-03]\n",
      " [  8.41601908e-01   1.28336638e-01   2.86357738e-02   1.42569118e-03]\n",
      " [  9.66955960e-01   2.67727822e-02   5.97381499e-03   2.97418737e-04]\n",
      " [  9.46008384e-01   4.37448584e-02   9.76079702e-03   4.85961471e-04]\n",
      " [  9.67706978e-01   2.61642914e-02   5.83804259e-03   2.90659023e-04]\n",
      " [  9.29204881e-01   5.73593453e-02   1.27985999e-02   6.37204736e-04]\n",
      " [  9.68432486e-01   2.55764928e-02   5.70688676e-03   2.84129172e-04]\n",
      " [  9.35503006e-01   5.22564612e-02   1.16599919e-02   5.80516818e-04]\n",
      " [  9.68432486e-01   2.55764928e-02   5.70688676e-03   2.84129172e-04]\n",
      " [  9.68432486e-01   2.55764928e-02   5.70688676e-03   2.84129172e-04]\n",
      " [  9.01414394e-01   7.98756108e-02   1.78226568e-02   8.87337839e-04]\n",
      " [  9.13968503e-01   6.97040632e-02   1.55530795e-02   7.74342217e-04]\n",
      " [  1.50421336e-01   6.74141645e-01   1.67116776e-01   8.32025427e-03]\n",
      " [  1.52590245e-01   6.83862031e-01   1.55791312e-01   7.75639294e-03]\n",
      " [  1.34743258e-01   6.03877366e-01   2.48983234e-01   1.23961456e-02]\n",
      " [  1.51528418e-01   6.79103255e-01   1.61335915e-01   8.03244207e-03]\n",
      " [  1.54585138e-01   6.92802489e-01   1.45374581e-01   7.23777385e-03]\n",
      " [  1.50421336e-01   6.74141645e-01   1.67116776e-01   8.32025427e-03]\n",
      " [  1.44144461e-01   6.46010637e-01   1.99892819e-01   9.95207671e-03]\n",
      " [  1.44144461e-01   6.46010637e-01   1.99892819e-01   9.95207671e-03]\n",
      " [  1.22981384e-01   5.51164329e-01   3.10400397e-01   1.54539254e-02]\n",
      " [  1.56419501e-01   7.01023579e-01   1.35796055e-01   6.76088734e-03]\n",
      " [  1.53608590e-01   6.88425899e-01   1.50473833e-01   7.49165146e-03]\n",
      " [  1.42728046e-01   6.39662743e-01   2.07288906e-01   1.03203068e-02]\n",
      " [  1.48064330e-01   6.63578272e-01   1.79424405e-01   8.93301517e-03]\n",
      " [  1.53608590e-01   6.88425899e-01   1.50473833e-01   7.49165146e-03]\n",
      " [  3.13762091e-02   1.40618399e-01   6.30207956e-01   1.97797418e-01]\n",
      " [  3.37365419e-02   1.51196688e-01   6.77616596e-01   1.37450188e-01]\n",
      " [  2.59462316e-02   1.16282940e-01   5.21143973e-01   3.36626828e-01]\n",
      " [  3.46219577e-02   1.55164853e-01   6.95400655e-01   1.14812560e-01]\n",
      " [  1.82618462e-02   8.18439201e-02   3.66798997e-01   5.33095241e-01]\n",
      " [  1.82618462e-02   8.18439201e-02   3.66798997e-01   5.33095241e-01]\n",
      " [  3.72951501e-03   1.67145263e-02   7.49093145e-02   9.04646635e-01]]\n",
      "[1.0, 1.0, 1.0, 1.0, 1.0, 1.0, 1.0, 1.0, 1.0, 1.0, 1.0, 1.0, 1.0, 1.0, 1.0, 1.0, 1.0, 0.39999999999999997, 1.0, 1.0, 1.0, 1.0, 1.0, 1.0, 1.0, 1.0, 1.0, 1.0, 1.0, 1.0, 0.79999999999999993, 1.0, 1.0, 1.0, 1.0, 1.0, 0.39999999999999997, 1.0, 1.0, 1.0, 1.0, 1.0, 0.79999999999999993, 1.0, 1.0, 1.0, 1.0, 1.0, 1.0, 1.0, 1.0, 1.0, 1.0, 1.0, 1.0, 1.0, 1.0, 1.0, 1.0, 1.0, 1.0, 1.0, 1.0, 0.79999999999999993, 1.0, 1.0, 1.0, 1.0, 1.0, 1.0, 1.0, 1.0, 0.79999999999999993, 1.0, 1.0, 1.0, 1.0, 1.0, 1.0, 1.0, 1.0, 1.0, 1.0, 1.0, 1.0, 1.0, 1.0, 1.0, 1.0, 1.0, 1.0, 1.0, 0.79999999999999993, 0.79999999999999993, 0.39999999999999997, 0.79999999999999993, 0.79999999999999993, 0.39999999999999997, 0.79999999999999993, 1.0, 0.79999999999999993, 0.79999999999999993, 0.79999999999999993, 0.39999999999999997, 0.39999999999999997, 0.79999999999999993, -0.79999999999999993, -0.39999999999999997, -0.60000000000000009, -0.39999999999999997, -1.0, -1.0, -0.39999999999999997]\n",
      "0.842477876106\n"
     ]
    }
   ],
   "source": [
    "from sklearn.metrics import f1_score, log_loss\n",
    "from scipy.stats import spearmanr\n",
    "pipe.fit(X_train, y_train, **{'logreg__sample_weight': w_train}); print('fitted')\n",
    "#print(pipe.named_steps['logreg'].classes_)\n",
    "y_pr = pipe.predict_proba(X_test); #print(log_loss(y_test, y_pr))\n",
    "\n",
    "corrs = []\n",
    "for i in range(X_test.shape[0]):\n",
    "    corrs.append(spearmanr(y_test[i], y_pr[i]).correlation)\n",
    "\n",
    "meanrho = np.mean(corrs)\n",
    "print(meanrho)\n",
    "# 0.842 1000 score 0.823\n",
    "# 0.846 5000"
   ]
  },
  {
   "cell_type": "code",
   "execution_count": null,
   "metadata": {
    "scrolled": false
   },
   "outputs": [
    {
     "name": "stderr",
     "output_type": "stream",
     "text": [
      "/usr/local/anaconda3/lib/python3.6/site-packages/sklearn/utils/validation.py:444: DataConversionWarning: Data with input dtype int64 was converted to float64 by StandardScaler.\n",
      "  warnings.warn(msg, DataConversionWarning)\n",
      "/usr/local/anaconda3/lib/python3.6/site-packages/sklearn/metrics/classification.py:1135: UndefinedMetricWarning: F-score is ill-defined and being set to 0.0 in labels with no predicted samples.\n",
      "  'precision', 'predicted', average, warn_for)\n"
     ]
    },
    {
     "name": "stdout",
     "output_type": "stream",
     "text": [
      "\u001b[1;31m0.774172995304\u001b[0m \t10000\n"
     ]
    },
    {
     "name": "stderr",
     "output_type": "stream",
     "text": [
      "/usr/local/anaconda3/lib/python3.6/site-packages/sklearn/utils/validation.py:444: DataConversionWarning: Data with input dtype int64 was converted to float64 by StandardScaler.\n",
      "  warnings.warn(msg, DataConversionWarning)\n",
      "/usr/local/anaconda3/lib/python3.6/site-packages/sklearn/metrics/classification.py:1135: UndefinedMetricWarning: F-score is ill-defined and being set to 0.0 in labels with no predicted samples.\n",
      "  'precision', 'predicted', average, warn_for)\n"
     ]
    },
    {
     "name": "stdout",
     "output_type": "stream",
     "text": [
      "\u001b[1;31m0.774172995304\u001b[0m \t10250\n"
     ]
    },
    {
     "name": "stderr",
     "output_type": "stream",
     "text": [
      "/usr/local/anaconda3/lib/python3.6/site-packages/sklearn/utils/validation.py:444: DataConversionWarning: Data with input dtype int64 was converted to float64 by StandardScaler.\n",
      "  warnings.warn(msg, DataConversionWarning)\n",
      "/usr/local/anaconda3/lib/python3.6/site-packages/sklearn/metrics/classification.py:1135: UndefinedMetricWarning: F-score is ill-defined and being set to 0.0 in labels with no predicted samples.\n",
      "  'precision', 'predicted', average, warn_for)\n"
     ]
    },
    {
     "name": "stdout",
     "output_type": "stream",
     "text": [
      "\u001b[1;31m0.774172995304\u001b[0m \t10500\n"
     ]
    },
    {
     "name": "stderr",
     "output_type": "stream",
     "text": [
      "/usr/local/anaconda3/lib/python3.6/site-packages/sklearn/utils/validation.py:444: DataConversionWarning: Data with input dtype int64 was converted to float64 by StandardScaler.\n",
      "  warnings.warn(msg, DataConversionWarning)\n",
      "/usr/local/anaconda3/lib/python3.6/site-packages/sklearn/metrics/classification.py:1135: UndefinedMetricWarning: F-score is ill-defined and being set to 0.0 in labels with no predicted samples.\n",
      "  'precision', 'predicted', average, warn_for)\n"
     ]
    },
    {
     "name": "stdout",
     "output_type": "stream",
     "text": [
      "\u001b[1;31m0.774172995304\u001b[0m \t10750\n"
     ]
    },
    {
     "name": "stderr",
     "output_type": "stream",
     "text": [
      "/usr/local/anaconda3/lib/python3.6/site-packages/sklearn/utils/validation.py:444: DataConversionWarning: Data with input dtype int64 was converted to float64 by StandardScaler.\n",
      "  warnings.warn(msg, DataConversionWarning)\n",
      "/usr/local/anaconda3/lib/python3.6/site-packages/sklearn/metrics/classification.py:1135: UndefinedMetricWarning: F-score is ill-defined and being set to 0.0 in labels with no predicted samples.\n",
      "  'precision', 'predicted', average, warn_for)\n"
     ]
    },
    {
     "name": "stdout",
     "output_type": "stream",
     "text": [
      "\u001b[1;31m0.768086373658\u001b[0m \t11000\n"
     ]
    },
    {
     "name": "stderr",
     "output_type": "stream",
     "text": [
      "/usr/local/anaconda3/lib/python3.6/site-packages/sklearn/utils/validation.py:444: DataConversionWarning: Data with input dtype int64 was converted to float64 by StandardScaler.\n",
      "  warnings.warn(msg, DataConversionWarning)\n",
      "/usr/local/anaconda3/lib/python3.6/site-packages/sklearn/metrics/classification.py:1135: UndefinedMetricWarning: F-score is ill-defined and being set to 0.0 in labels with no predicted samples.\n",
      "  'precision', 'predicted', average, warn_for)\n"
     ]
    },
    {
     "name": "stdout",
     "output_type": "stream",
     "text": [
      "\u001b[1;31m0.768086373658\u001b[0m \t11250\n"
     ]
    },
    {
     "name": "stderr",
     "output_type": "stream",
     "text": [
      "/usr/local/anaconda3/lib/python3.6/site-packages/sklearn/utils/validation.py:444: DataConversionWarning: Data with input dtype int64 was converted to float64 by StandardScaler.\n",
      "  warnings.warn(msg, DataConversionWarning)\n",
      "/usr/local/anaconda3/lib/python3.6/site-packages/sklearn/metrics/classification.py:1135: UndefinedMetricWarning: F-score is ill-defined and being set to 0.0 in labels with no predicted samples.\n",
      "  'precision', 'predicted', average, warn_for)\n"
     ]
    },
    {
     "name": "stdout",
     "output_type": "stream",
     "text": [
      "\u001b[1;31m0.768086373658\u001b[0m \t11500\n"
     ]
    },
    {
     "name": "stderr",
     "output_type": "stream",
     "text": [
      "/usr/local/anaconda3/lib/python3.6/site-packages/sklearn/utils/validation.py:444: DataConversionWarning: Data with input dtype int64 was converted to float64 by StandardScaler.\n",
      "  warnings.warn(msg, DataConversionWarning)\n",
      "/usr/local/anaconda3/lib/python3.6/site-packages/sklearn/metrics/classification.py:1135: UndefinedMetricWarning: F-score is ill-defined and being set to 0.0 in labels with no predicted samples.\n",
      "  'precision', 'predicted', average, warn_for)\n"
     ]
    },
    {
     "name": "stdout",
     "output_type": "stream",
     "text": [
      "\u001b[1;31m0.768086373658\u001b[0m \t11750\n"
     ]
    },
    {
     "name": "stderr",
     "output_type": "stream",
     "text": [
      "/usr/local/anaconda3/lib/python3.6/site-packages/sklearn/utils/validation.py:444: DataConversionWarning: Data with input dtype int64 was converted to float64 by StandardScaler.\n",
      "  warnings.warn(msg, DataConversionWarning)\n",
      "/usr/local/anaconda3/lib/python3.6/site-packages/sklearn/metrics/classification.py:1135: UndefinedMetricWarning: F-score is ill-defined and being set to 0.0 in labels with no predicted samples.\n",
      "  'precision', 'predicted', average, warn_for)\n"
     ]
    },
    {
     "name": "stdout",
     "output_type": "stream",
     "text": [
      "\u001b[1;31m0.774172995304\u001b[0m \t12000\n"
     ]
    },
    {
     "name": "stderr",
     "output_type": "stream",
     "text": [
      "/usr/local/anaconda3/lib/python3.6/site-packages/sklearn/utils/validation.py:444: DataConversionWarning: Data with input dtype int64 was converted to float64 by StandardScaler.\n",
      "  warnings.warn(msg, DataConversionWarning)\n",
      "/usr/local/anaconda3/lib/python3.6/site-packages/sklearn/metrics/classification.py:1135: UndefinedMetricWarning: F-score is ill-defined and being set to 0.0 in labels with no predicted samples.\n",
      "  'precision', 'predicted', average, warn_for)\n"
     ]
    },
    {
     "name": "stdout",
     "output_type": "stream",
     "text": [
      "\u001b[1;31m0.774172995304\u001b[0m \t12250\n"
     ]
    },
    {
     "name": "stderr",
     "output_type": "stream",
     "text": [
      "/usr/local/anaconda3/lib/python3.6/site-packages/sklearn/utils/validation.py:444: DataConversionWarning: Data with input dtype int64 was converted to float64 by StandardScaler.\n",
      "  warnings.warn(msg, DataConversionWarning)\n",
      "/usr/local/anaconda3/lib/python3.6/site-packages/sklearn/metrics/classification.py:1135: UndefinedMetricWarning: F-score is ill-defined and being set to 0.0 in labels with no predicted samples.\n",
      "  'precision', 'predicted', average, warn_for)\n"
     ]
    },
    {
     "name": "stdout",
     "output_type": "stream",
     "text": [
      "\u001b[1;31m0.774172995304\u001b[0m \t12500\n"
     ]
    },
    {
     "name": "stderr",
     "output_type": "stream",
     "text": [
      "/usr/local/anaconda3/lib/python3.6/site-packages/sklearn/utils/validation.py:444: DataConversionWarning: Data with input dtype int64 was converted to float64 by StandardScaler.\n",
      "  warnings.warn(msg, DataConversionWarning)\n",
      "/usr/local/anaconda3/lib/python3.6/site-packages/sklearn/metrics/classification.py:1135: UndefinedMetricWarning: F-score is ill-defined and being set to 0.0 in labels with no predicted samples.\n",
      "  'precision', 'predicted', average, warn_for)\n"
     ]
    },
    {
     "name": "stdout",
     "output_type": "stream",
     "text": [
      "\u001b[1;31m0.768086373658\u001b[0m \t12750\n"
     ]
    },
    {
     "name": "stderr",
     "output_type": "stream",
     "text": [
      "/usr/local/anaconda3/lib/python3.6/site-packages/sklearn/utils/validation.py:444: DataConversionWarning: Data with input dtype int64 was converted to float64 by StandardScaler.\n",
      "  warnings.warn(msg, DataConversionWarning)\n",
      "/usr/local/anaconda3/lib/python3.6/site-packages/sklearn/metrics/classification.py:1135: UndefinedMetricWarning: F-score is ill-defined and being set to 0.0 in labels with no predicted samples.\n",
      "  'precision', 'predicted', average, warn_for)\n"
     ]
    },
    {
     "name": "stdout",
     "output_type": "stream",
     "text": [
      "\u001b[1;31m0.768086373658\u001b[0m \t13000\n"
     ]
    },
    {
     "name": "stderr",
     "output_type": "stream",
     "text": [
      "/usr/local/anaconda3/lib/python3.6/site-packages/sklearn/utils/validation.py:444: DataConversionWarning: Data with input dtype int64 was converted to float64 by StandardScaler.\n",
      "  warnings.warn(msg, DataConversionWarning)\n",
      "/usr/local/anaconda3/lib/python3.6/site-packages/sklearn/metrics/classification.py:1135: UndefinedMetricWarning: F-score is ill-defined and being set to 0.0 in labels with no predicted samples.\n",
      "  'precision', 'predicted', average, warn_for)\n"
     ]
    },
    {
     "name": "stdout",
     "output_type": "stream",
     "text": [
      "\u001b[1;31m0.774172995304\u001b[0m \t13250\n"
     ]
    },
    {
     "name": "stderr",
     "output_type": "stream",
     "text": [
      "/usr/local/anaconda3/lib/python3.6/site-packages/sklearn/utils/validation.py:444: DataConversionWarning: Data with input dtype int64 was converted to float64 by StandardScaler.\n",
      "  warnings.warn(msg, DataConversionWarning)\n",
      "/usr/local/anaconda3/lib/python3.6/site-packages/sklearn/metrics/classification.py:1135: UndefinedMetricWarning: F-score is ill-defined and being set to 0.0 in labels with no predicted samples.\n",
      "  'precision', 'predicted', average, warn_for)\n"
     ]
    },
    {
     "name": "stdout",
     "output_type": "stream",
     "text": [
      "\u001b[1;31m0.768086373658\u001b[0m \t13500\n"
     ]
    },
    {
     "name": "stderr",
     "output_type": "stream",
     "text": [
      "/usr/local/anaconda3/lib/python3.6/site-packages/sklearn/utils/validation.py:444: DataConversionWarning: Data with input dtype int64 was converted to float64 by StandardScaler.\n",
      "  warnings.warn(msg, DataConversionWarning)\n",
      "/usr/local/anaconda3/lib/python3.6/site-packages/sklearn/metrics/classification.py:1135: UndefinedMetricWarning: F-score is ill-defined and being set to 0.0 in labels with no predicted samples.\n",
      "  'precision', 'predicted', average, warn_for)\n"
     ]
    },
    {
     "name": "stdout",
     "output_type": "stream",
     "text": [
      "\u001b[1;31m0.774172995304\u001b[0m \t13750\n"
     ]
    },
    {
     "name": "stderr",
     "output_type": "stream",
     "text": [
      "/usr/local/anaconda3/lib/python3.6/site-packages/sklearn/utils/validation.py:444: DataConversionWarning: Data with input dtype int64 was converted to float64 by StandardScaler.\n",
      "  warnings.warn(msg, DataConversionWarning)\n",
      "/usr/local/anaconda3/lib/python3.6/site-packages/sklearn/metrics/classification.py:1135: UndefinedMetricWarning: F-score is ill-defined and being set to 0.0 in labels with no predicted samples.\n",
      "  'precision', 'predicted', average, warn_for)\n"
     ]
    },
    {
     "name": "stdout",
     "output_type": "stream",
     "text": [
      "\u001b[1;31m0.768086373658\u001b[0m \t14000\n"
     ]
    },
    {
     "name": "stderr",
     "output_type": "stream",
     "text": [
      "/usr/local/anaconda3/lib/python3.6/site-packages/sklearn/utils/validation.py:444: DataConversionWarning: Data with input dtype int64 was converted to float64 by StandardScaler.\n",
      "  warnings.warn(msg, DataConversionWarning)\n",
      "/usr/local/anaconda3/lib/python3.6/site-packages/sklearn/metrics/classification.py:1135: UndefinedMetricWarning: F-score is ill-defined and being set to 0.0 in labels with no predicted samples.\n",
      "  'precision', 'predicted', average, warn_for)\n"
     ]
    },
    {
     "name": "stdout",
     "output_type": "stream",
     "text": [
      "\u001b[1;31m0.768086373658\u001b[0m \t14250\n"
     ]
    },
    {
     "name": "stderr",
     "output_type": "stream",
     "text": [
      "/usr/local/anaconda3/lib/python3.6/site-packages/sklearn/utils/validation.py:444: DataConversionWarning: Data with input dtype int64 was converted to float64 by StandardScaler.\n",
      "  warnings.warn(msg, DataConversionWarning)\n",
      "/usr/local/anaconda3/lib/python3.6/site-packages/sklearn/metrics/classification.py:1135: UndefinedMetricWarning: F-score is ill-defined and being set to 0.0 in labels with no predicted samples.\n",
      "  'precision', 'predicted', average, warn_for)\n"
     ]
    },
    {
     "name": "stdout",
     "output_type": "stream",
     "text": [
      "\u001b[1;31m0.768086373658\u001b[0m \t14500\n"
     ]
    },
    {
     "name": "stderr",
     "output_type": "stream",
     "text": [
      "/usr/local/anaconda3/lib/python3.6/site-packages/sklearn/utils/validation.py:444: DataConversionWarning: Data with input dtype int64 was converted to float64 by StandardScaler.\n",
      "  warnings.warn(msg, DataConversionWarning)\n",
      "/usr/local/anaconda3/lib/python3.6/site-packages/sklearn/metrics/classification.py:1135: UndefinedMetricWarning: F-score is ill-defined and being set to 0.0 in labels with no predicted samples.\n",
      "  'precision', 'predicted', average, warn_for)\n"
     ]
    },
    {
     "name": "stdout",
     "output_type": "stream",
     "text": [
      "\u001b[1;31m0.768086373658\u001b[0m \t14750\n"
     ]
    },
    {
     "name": "stderr",
     "output_type": "stream",
     "text": [
      "/usr/local/anaconda3/lib/python3.6/site-packages/sklearn/utils/validation.py:444: DataConversionWarning: Data with input dtype int64 was converted to float64 by StandardScaler.\n",
      "  warnings.warn(msg, DataConversionWarning)\n",
      "/usr/local/anaconda3/lib/python3.6/site-packages/sklearn/metrics/classification.py:1135: UndefinedMetricWarning: F-score is ill-defined and being set to 0.0 in labels with no predicted samples.\n",
      "  'precision', 'predicted', average, warn_for)\n"
     ]
    },
    {
     "name": "stdout",
     "output_type": "stream",
     "text": [
      "\u001b[1;31m0.768086373658\u001b[0m \t15000\n"
     ]
    },
    {
     "name": "stderr",
     "output_type": "stream",
     "text": [
      "/usr/local/anaconda3/lib/python3.6/site-packages/sklearn/utils/validation.py:444: DataConversionWarning: Data with input dtype int64 was converted to float64 by StandardScaler.\n",
      "  warnings.warn(msg, DataConversionWarning)\n",
      "/usr/local/anaconda3/lib/python3.6/site-packages/sklearn/metrics/classification.py:1135: UndefinedMetricWarning: F-score is ill-defined and being set to 0.0 in labels with no predicted samples.\n",
      "  'precision', 'predicted', average, warn_for)\n"
     ]
    },
    {
     "name": "stdout",
     "output_type": "stream",
     "text": [
      "\u001b[1;31m0.774172995304\u001b[0m \t15250\n"
     ]
    },
    {
     "name": "stderr",
     "output_type": "stream",
     "text": [
      "/usr/local/anaconda3/lib/python3.6/site-packages/sklearn/utils/validation.py:444: DataConversionWarning: Data with input dtype int64 was converted to float64 by StandardScaler.\n",
      "  warnings.warn(msg, DataConversionWarning)\n",
      "/usr/local/anaconda3/lib/python3.6/site-packages/sklearn/metrics/classification.py:1135: UndefinedMetricWarning: F-score is ill-defined and being set to 0.0 in labels with no predicted samples.\n",
      "  'precision', 'predicted', average, warn_for)\n"
     ]
    },
    {
     "name": "stdout",
     "output_type": "stream",
     "text": [
      "\u001b[1;31m0.768086373658\u001b[0m \t15500\n"
     ]
    },
    {
     "name": "stderr",
     "output_type": "stream",
     "text": [
      "/usr/local/anaconda3/lib/python3.6/site-packages/sklearn/utils/validation.py:444: DataConversionWarning: Data with input dtype int64 was converted to float64 by StandardScaler.\n",
      "  warnings.warn(msg, DataConversionWarning)\n",
      "/usr/local/anaconda3/lib/python3.6/site-packages/sklearn/metrics/classification.py:1135: UndefinedMetricWarning: F-score is ill-defined and being set to 0.0 in labels with no predicted samples.\n",
      "  'precision', 'predicted', average, warn_for)\n"
     ]
    },
    {
     "name": "stdout",
     "output_type": "stream",
     "text": [
      "\u001b[1;31m0.763354474982\u001b[0m \t15750\n"
     ]
    },
    {
     "name": "stderr",
     "output_type": "stream",
     "text": [
      "/usr/local/anaconda3/lib/python3.6/site-packages/sklearn/utils/validation.py:444: DataConversionWarning: Data with input dtype int64 was converted to float64 by StandardScaler.\n",
      "  warnings.warn(msg, DataConversionWarning)\n",
      "/usr/local/anaconda3/lib/python3.6/site-packages/sklearn/metrics/classification.py:1135: UndefinedMetricWarning: F-score is ill-defined and being set to 0.0 in labels with no predicted samples.\n",
      "  'precision', 'predicted', average, warn_for)\n"
     ]
    },
    {
     "name": "stdout",
     "output_type": "stream",
     "text": [
      "\u001b[1;31m0.774172995304\u001b[0m \t16000\n"
     ]
    },
    {
     "name": "stderr",
     "output_type": "stream",
     "text": [
      "/usr/local/anaconda3/lib/python3.6/site-packages/sklearn/utils/validation.py:444: DataConversionWarning: Data with input dtype int64 was converted to float64 by StandardScaler.\n",
      "  warnings.warn(msg, DataConversionWarning)\n",
      "/usr/local/anaconda3/lib/python3.6/site-packages/sklearn/metrics/classification.py:1135: UndefinedMetricWarning: F-score is ill-defined and being set to 0.0 in labels with no predicted samples.\n",
      "  'precision', 'predicted', average, warn_for)\n"
     ]
    },
    {
     "name": "stdout",
     "output_type": "stream",
     "text": [
      "\u001b[1;31m0.769376326766\u001b[0m \t16250\n"
     ]
    },
    {
     "name": "stderr",
     "output_type": "stream",
     "text": [
      "/usr/local/anaconda3/lib/python3.6/site-packages/sklearn/utils/validation.py:444: DataConversionWarning: Data with input dtype int64 was converted to float64 by StandardScaler.\n",
      "  warnings.warn(msg, DataConversionWarning)\n",
      "/usr/local/anaconda3/lib/python3.6/site-packages/sklearn/metrics/classification.py:1135: UndefinedMetricWarning: F-score is ill-defined and being set to 0.0 in labels with no predicted samples.\n",
      "  'precision', 'predicted', average, warn_for)\n"
     ]
    },
    {
     "name": "stdout",
     "output_type": "stream",
     "text": [
      "\u001b[1;31m0.768086373658\u001b[0m \t16500\n"
     ]
    },
    {
     "name": "stderr",
     "output_type": "stream",
     "text": [
      "/usr/local/anaconda3/lib/python3.6/site-packages/sklearn/utils/validation.py:444: DataConversionWarning: Data with input dtype int64 was converted to float64 by StandardScaler.\n",
      "  warnings.warn(msg, DataConversionWarning)\n",
      "/usr/local/anaconda3/lib/python3.6/site-packages/sklearn/metrics/classification.py:1135: UndefinedMetricWarning: F-score is ill-defined and being set to 0.0 in labels with no predicted samples.\n",
      "  'precision', 'predicted', average, warn_for)\n"
     ]
    },
    {
     "name": "stdout",
     "output_type": "stream",
     "text": [
      "\u001b[1;31m0.774172995304\u001b[0m \t16750\n"
     ]
    },
    {
     "name": "stderr",
     "output_type": "stream",
     "text": [
      "/usr/local/anaconda3/lib/python3.6/site-packages/sklearn/utils/validation.py:444: DataConversionWarning: Data with input dtype int64 was converted to float64 by StandardScaler.\n",
      "  warnings.warn(msg, DataConversionWarning)\n",
      "/usr/local/anaconda3/lib/python3.6/site-packages/sklearn/metrics/classification.py:1135: UndefinedMetricWarning: F-score is ill-defined and being set to 0.0 in labels with no predicted samples.\n",
      "  'precision', 'predicted', average, warn_for)\n"
     ]
    },
    {
     "name": "stdout",
     "output_type": "stream",
     "text": [
      "\u001b[1;31m0.774172995304\u001b[0m \t17000\n"
     ]
    },
    {
     "name": "stderr",
     "output_type": "stream",
     "text": [
      "/usr/local/anaconda3/lib/python3.6/site-packages/sklearn/utils/validation.py:444: DataConversionWarning: Data with input dtype int64 was converted to float64 by StandardScaler.\n",
      "  warnings.warn(msg, DataConversionWarning)\n",
      "/usr/local/anaconda3/lib/python3.6/site-packages/sklearn/metrics/classification.py:1135: UndefinedMetricWarning: F-score is ill-defined and being set to 0.0 in labels with no predicted samples.\n",
      "  'precision', 'predicted', average, warn_for)\n"
     ]
    },
    {
     "name": "stdout",
     "output_type": "stream",
     "text": [
      "\u001b[1;31m0.774172995304\u001b[0m \t17250\n"
     ]
    },
    {
     "name": "stderr",
     "output_type": "stream",
     "text": [
      "/usr/local/anaconda3/lib/python3.6/site-packages/sklearn/utils/validation.py:444: DataConversionWarning: Data with input dtype int64 was converted to float64 by StandardScaler.\n",
      "  warnings.warn(msg, DataConversionWarning)\n",
      "/usr/local/anaconda3/lib/python3.6/site-packages/sklearn/metrics/classification.py:1135: UndefinedMetricWarning: F-score is ill-defined and being set to 0.0 in labels with no predicted samples.\n",
      "  'precision', 'predicted', average, warn_for)\n"
     ]
    },
    {
     "name": "stdout",
     "output_type": "stream",
     "text": [
      "\u001b[1;31m0.774172995304\u001b[0m \t17500\n"
     ]
    },
    {
     "name": "stderr",
     "output_type": "stream",
     "text": [
      "/usr/local/anaconda3/lib/python3.6/site-packages/sklearn/utils/validation.py:444: DataConversionWarning: Data with input dtype int64 was converted to float64 by StandardScaler.\n",
      "  warnings.warn(msg, DataConversionWarning)\n",
      "/usr/local/anaconda3/lib/python3.6/site-packages/sklearn/metrics/classification.py:1135: UndefinedMetricWarning: F-score is ill-defined and being set to 0.0 in labels with no predicted samples.\n",
      "  'precision', 'predicted', average, warn_for)\n"
     ]
    },
    {
     "name": "stdout",
     "output_type": "stream",
     "text": [
      "\u001b[1;31m0.768086373658\u001b[0m \t17750\n"
     ]
    },
    {
     "name": "stderr",
     "output_type": "stream",
     "text": [
      "/usr/local/anaconda3/lib/python3.6/site-packages/sklearn/utils/validation.py:444: DataConversionWarning: Data with input dtype int64 was converted to float64 by StandardScaler.\n",
      "  warnings.warn(msg, DataConversionWarning)\n",
      "/usr/local/anaconda3/lib/python3.6/site-packages/sklearn/metrics/classification.py:1135: UndefinedMetricWarning: F-score is ill-defined and being set to 0.0 in labels with no predicted samples.\n",
      "  'precision', 'predicted', average, warn_for)\n"
     ]
    },
    {
     "name": "stdout",
     "output_type": "stream",
     "text": [
      "\u001b[1;31m0.768086373658\u001b[0m \t18000\n"
     ]
    },
    {
     "name": "stderr",
     "output_type": "stream",
     "text": [
      "/usr/local/anaconda3/lib/python3.6/site-packages/sklearn/utils/validation.py:444: DataConversionWarning: Data with input dtype int64 was converted to float64 by StandardScaler.\n",
      "  warnings.warn(msg, DataConversionWarning)\n",
      "/usr/local/anaconda3/lib/python3.6/site-packages/sklearn/metrics/classification.py:1135: UndefinedMetricWarning: F-score is ill-defined and being set to 0.0 in labels with no predicted samples.\n",
      "  'precision', 'predicted', average, warn_for)\n"
     ]
    },
    {
     "name": "stdout",
     "output_type": "stream",
     "text": [
      "\u001b[1;31m0.768086373658\u001b[0m \t18250\n"
     ]
    },
    {
     "name": "stderr",
     "output_type": "stream",
     "text": [
      "/usr/local/anaconda3/lib/python3.6/site-packages/sklearn/utils/validation.py:444: DataConversionWarning: Data with input dtype int64 was converted to float64 by StandardScaler.\n",
      "  warnings.warn(msg, DataConversionWarning)\n",
      "/usr/local/anaconda3/lib/python3.6/site-packages/sklearn/metrics/classification.py:1135: UndefinedMetricWarning: F-score is ill-defined and being set to 0.0 in labels with no predicted samples.\n",
      "  'precision', 'predicted', average, warn_for)\n"
     ]
    },
    {
     "name": "stdout",
     "output_type": "stream",
     "text": [
      "\u001b[1;31m0.768086373658\u001b[0m \t18500\n"
     ]
    },
    {
     "name": "stderr",
     "output_type": "stream",
     "text": [
      "/usr/local/anaconda3/lib/python3.6/site-packages/sklearn/utils/validation.py:444: DataConversionWarning: Data with input dtype int64 was converted to float64 by StandardScaler.\n",
      "  warnings.warn(msg, DataConversionWarning)\n",
      "/usr/local/anaconda3/lib/python3.6/site-packages/sklearn/metrics/classification.py:1135: UndefinedMetricWarning: F-score is ill-defined and being set to 0.0 in labels with no predicted samples.\n",
      "  'precision', 'predicted', average, warn_for)\n"
     ]
    },
    {
     "name": "stdout",
     "output_type": "stream",
     "text": [
      "\u001b[1;31m0.774172995304\u001b[0m \t18750\n"
     ]
    },
    {
     "name": "stderr",
     "output_type": "stream",
     "text": [
      "/usr/local/anaconda3/lib/python3.6/site-packages/sklearn/utils/validation.py:444: DataConversionWarning: Data with input dtype int64 was converted to float64 by StandardScaler.\n",
      "  warnings.warn(msg, DataConversionWarning)\n",
      "/usr/local/anaconda3/lib/python3.6/site-packages/sklearn/metrics/classification.py:1135: UndefinedMetricWarning: F-score is ill-defined and being set to 0.0 in labels with no predicted samples.\n",
      "  'precision', 'predicted', average, warn_for)\n"
     ]
    },
    {
     "name": "stdout",
     "output_type": "stream",
     "text": [
      "\u001b[1;31m0.763354474982\u001b[0m \t19000\n"
     ]
    },
    {
     "name": "stderr",
     "output_type": "stream",
     "text": [
      "/usr/local/anaconda3/lib/python3.6/site-packages/sklearn/utils/validation.py:444: DataConversionWarning: Data with input dtype int64 was converted to float64 by StandardScaler.\n",
      "  warnings.warn(msg, DataConversionWarning)\n"
     ]
    }
   ],
   "source": [
    "def run(a):\n",
    "    pipe = Pipeline([\n",
    "        ('BinsExtraction', RandomBinsExtraction(splits=a)),\n",
    "        ('vct', VarianceThreshold(threshold=5.0)),\n",
    "        ('scaler', StandardScaler()),\n",
    "        ('logreg', LogisticRegression(C=1.0, solver='newton-cg', n_jobs=2))\n",
    "        #('linearSVC', LinearSVC(C=1.0, max_iter=1000))\n",
    "    ])\n",
    "    pipe.fit(X_train, y_train)\n",
    "    #y_pr = pipe.predict_proba(X_test)\n",
    "    #print(\"\\x1b[1;31m%s\\x1b[0m \\t%s\" % (log_loss(y_test, y_pr), a))\n",
    "    y_pr_cl = pipe.predict(X_test)\n",
    "    print(\"\\x1b[1;31m%s\\x1b[0m \\t%s\" % (f1_score(y_test, y_pr_cl, average='weighted'), a))\n",
    "    \n",
    "for i in range(10000, 40000, 250):\n",
    "    run(i)\n",
    "#run(100)"
   ]
  },
  {
   "cell_type": "code",
   "execution_count": 233,
   "metadata": {},
   "outputs": [
    {
     "name": "stdout",
     "output_type": "stream",
     "text": [
      "[0 0 0 0 0 0 0 0 0 0 0 0 0 0 0 0 0 0 0 0 0 0 0 0 0 0 0 0 0 0 0 0 0 0 0 0 0\n",
      " 0 0 0 0 0 0 0 0 0 0 0 0 0 0 0 0 0 0 0 0 0 0 0 0 0 0 0 0 0 0 0 0 0 0 0 0 0\n",
      " 0 0 0 0 0 0 0 0 0 0 0 0 0 0 0 0 0 0 0 0 0 0 0 0 0 0 0 0 0 0 0 0 0 0 0 0 0\n",
      " 0 0 0 0 0 0 0 0 0 1 1 1 1 1 1 1 1 1 1 1 1 1 1 1 1 1 1 1 1 1 1 1 1 1 1 1 1\n",
      " 1 1 2 2 2 2 2 2 2 3 3 3 3]\n",
      "[0 0 0 0 0 0 0 0 0 0 0 0 0 0 0 0 0 0 0 0 0 0 0 0 0 0 0 0 0 0 0 0 0 0 0 0 0\n",
      " 0 0 0 0 0 0 0 0 0 0 0 0 0 0 0 0 0 0 0 0 0 0 0 0 0 0 0 0 0 0 0 0 0 0 0 0 0\n",
      " 0 0 0 0 0 0 0 0 0 0 0 0 0 0 0 0 0 0 0 0 0 0 0 0 0 0 0 0 1 1 1 1 1 1 1 1 1\n",
      " 1 1 1 1 1 1 1 1 1 1 2 2 2 2 2 3 3 3]\n"
     ]
    },
    {
     "name": "stderr",
     "output_type": "stream",
     "text": [
      "/usr/local/anaconda3/lib/python3.6/site-packages/sklearn/metrics/classification.py:1135: UndefinedMetricWarning: F-score is ill-defined and being set to 0.0 in labels with no predicted samples.\n",
      "  'precision', 'predicted', average, warn_for)\n"
     ]
    },
    {
     "data": {
      "text/plain": [
       "0.69827846572032615"
      ]
     },
     "execution_count": 233,
     "metadata": {},
     "output_type": "execute_result"
    }
   ],
   "source": [
    "# Not random so far\n",
    "ind_train = np.concatenate((np.where(y_cl == 0)[0][0:120], np.where(y_cl == 1)[0][:30], np.where(y_cl == 2)[0][:7], np.where(y_cl == 3)[0][:4]))\n",
    "ind_test = list(set(range(0, 290)) - set(ind_train))\n",
    "print(y_cl[ind_train])\n",
    "print(y_cl[ind_test])\n",
    "#ind_train"
   ]
  },
  {
   "cell_type": "code",
   "execution_count": 206,
   "metadata": {},
   "outputs": [
    {
     "name": "stdout",
     "output_type": "stream",
     "text": [
      "0 done\n",
      "1 done\n",
      "2 done\n",
      "3 done\n",
      "4 done\n",
      "5 done\n",
      "6 done\n",
      "7 done\n",
      "8 done\n",
      "9 done\n",
      "10 done\n",
      "11 done\n"
     ]
    },
    {
     "data": {
      "text/plain": [
       "[1,\n",
       " 298.8218117717887,\n",
       " 415.59953383322301,\n",
       " 529.00853569772312,\n",
       " 637.92188924633831,\n",
       " 741.69761514701986,\n",
       " 840.16357827183447,\n",
       " 936.05487410467663,\n",
       " 1034.8715039519698,\n",
       " 1139.5417907370197,\n",
       " 1246.5076326626559,\n",
       " 1350.2613661802782,\n",
       " 1451.0932380428474]"
      ]
     },
     "execution_count": 206,
     "metadata": {},
     "output_type": "execute_result"
    }
   ],
   "source": [
    "from sklearn.cluster import KMeans\n",
    "kmeans = KMeans(n_clusters=13, n_jobs=-1, random_state=99)\n",
    "\n",
    "ind = np.concatenate((np.where(y_cl == 0)[0][0:3], np.where(y_cl == 1)[0][:3], np.where(y_cl == 2)[0][:3], np.where(y_cl == 3)[0][:3]))\n",
    "samples = np.take(X, ind, axis=0)\n",
    "centers = []\n",
    "for i, sample in enumerate(samples):\n",
    "    # sample = sample[1672390 : -786303]\n",
    "\n",
    "    sample = sample[(sample > 0) & (sample < 1800)]\n",
    "    kmeans.fit(np.array([sample]).T)\n",
    "    centers.append(np.sort(np.array(kmeans.cluster_centers_).flatten()))\n",
    "    print(str(i+1) + ' / ' + str(len(samples)))\n",
    "\n",
    "if False: # use all centers\n",
    "    values = np.array(centers).flatten()\n",
    "    values = np.sort(values)\n",
    "else: # take means of centers\n",
    "    values = np.mean(centers, axis=0)\n",
    "\n",
    "edges = [1] # leave out 0\n",
    "for center_1, center_2 in zip(values[:-1], values[1:]):\n",
    "    edges.append(.5 * (center_1 + center_2))\n",
    "edges.append(1700)\n",
    "\"\"\"\n",
    "[1, 349.57938688820047, 514.3746932858628, 669.4300432252885, 813.46816874832098, 950.71415810026383, 1094.3331288316649, 1245.2794633697374, 1390.4908175139283, 1700]\n",
    "[1, 298.8218117717887, 415.59953383322301, 529.00853569772312, 637.92188924633831, 741.69761514701986, 840.16357827183447, 936.05487410467663, 1034.8715039519698, 1139.5417907370197, 1246.5076326626559, 1350.2613661802782, 1451.0932380428474, 1700]\n",
    "\"\"\"\n",
    "edges"
   ]
  }
 ],
 "metadata": {
  "kernelspec": {
   "display_name": "Python 3",
   "language": "python",
   "name": "python3"
  },
  "language_info": {
   "codemirror_mode": {
    "name": "ipython",
    "version": 3
   },
   "file_extension": ".py",
   "mimetype": "text/x-python",
   "name": "python",
   "nbconvert_exporter": "python",
   "pygments_lexer": "ipython3",
   "version": "3.6.2"
  }
 },
 "nbformat": 4,
 "nbformat_minor": 2
}
