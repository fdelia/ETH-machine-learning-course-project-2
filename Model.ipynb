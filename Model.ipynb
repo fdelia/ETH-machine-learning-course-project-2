{
 "cells": [
  {
   "cell_type": "code",
   "execution_count": 123,
   "metadata": {
    "collapsed": true
   },
   "outputs": [],
   "source": [
    "from sklearn.model_selection import GridSearchCV\n",
    "import numpy as np\n",
    "import matplotlib.pyplot as plt\n",
    "\n",
    "ind_train = np.concatenate((np.where(y_cl == 0)[0][0:130], np.where(y_cl == 1)[0][:35], np.where(y_cl == 2)[0][:8], np.where(y_cl == 3)[0][:4]))\n",
    "ind_test = list(set(range(0, 290)) - set(ind_train))\n",
    "\n",
    "X = np.load('data/X_train.npy')\n",
    "y = np.genfromtxt('data/train_labels_new.csv', delimiter=' ', dtype=np.float32)\n",
    "y_cl = np.argmax(y, axis=1)\n",
    "\n",
    "X_train = np.take(X, ind_train, axis=0)\n",
    "y_train = np.take(y_cl, ind_train)\n",
    "X_test = np.take(X, ind_test, axis=0)\n",
    "y_test = np.take(y_cl, ind_test)"
   ]
  },
  {
   "cell_type": "code",
   "execution_count": 213,
   "metadata": {},
   "outputs": [
    {
     "data": {
      "image/png": "[encoded data removed]",
      "text/plain": [
       "<matplotlib.figure.Figure at 0x1f36afac8>"
      ]
     },
     "metadata": {},
     "output_type": "display_data"
    }
   ],
   "source": [
    "bins = [1, 282.10434686113894, 528.4350826042349, 635.7632261805744, 781.9301580581496, 962.0317275933281, 1079.2939329789033, 1246.3707282050862, 1393.0345691835053, 1721.8292294917992]\n",
    "plt.hist(X[0][(X[0] > 100) & (X[0] < 1650) ], 100, facecolor='blue', alpha=0.5, label='class 0')\n",
    "plt.hist(X[200][(X[200] > 100) & (X[200] < 1650) ], 100, facecolor='yellow', alpha=0.5, label='class 1')\n",
    "plt.hist(X[276][(X[276] > 100) & (X[276] < 1650) ], 100, facecolor='green', alpha=0.5, label='class 2')\n",
    "plt.hist(X[280][(X[280] > 100) & (X[280] < 1650) ], 100, facecolor='red', alpha=0.5, label='class 3')\n",
    "plt.xlabel('value'); plt.ylabel('n'); plt.legend(); plt.show()\n",
    "#plt.hist(y_cl, 4, facecolor='red', alpha=0.75)\n",
    "#plt.xlabel('class'); plt.ylabel('n'); plt.show()\n",
    "\n",
    "#from sklearn.metrics import accuracy_score\n",
    "#f1_score([0, 1, 2], [0, 2, 1], average='micro')"
   ]
  },
  {
   "cell_type": "code",
   "execution_count": 223,
   "metadata": {
    "collapsed": true,
    "slideshow": {
     "slide_type": "-"
    }
   },
   "outputs": [],
   "source": [
    "from sklearn.base import BaseEstimator, TransformerMixin\n",
    "import random\n",
    "random.seed(99)\n",
    "\n",
    "class RandomBinsExtraction(BaseEstimator, TransformerMixin):\n",
    "    \"\"\"Build n bins with mean from values\"\"\"\n",
    "    def __init__(self, splits=610, hist_bins=None,\n",
    "        images_x_from=None, images_x_to=None,\n",
    "        images_y_from=None, images_y_to=None):\n",
    "\n",
    "        self.splits = splits\n",
    "        self.hist_bins = hist_bins\n",
    "\n",
    "        self.images_x_from = images_x_from\n",
    "        self.images_x_to = images_x_to\n",
    "        self.images_y_from = images_y_from\n",
    "        self.images_y_to = images_y_to\n",
    "        \n",
    "    def fit(self, X, y=None):\n",
    "        return self\n",
    "\n",
    "    def transform(self, X, y=None):\n",
    "        X_new = []\n",
    "        if self.hist_bins is None:\n",
    "            self.hist_bins = [[1, 349.57938688820047, 514.3746932858628, 669.4300432252885, 813.46816874832098, 950.71415810026383, 1094.3331288316649, 1245.2794633697374, 1390.4908175139283, 1700]]\n",
    "            self.hist_bins = [[1, 298.8218117717887, 415.59953383322301, 529.00853569772312, 637.92188924633831, 741.69761514701986, 840.16357827183447, 936.05487410467663, 1034.8715039519698, 1139.5417907370197, 1246.5076326626559, 1350.2613661802782, 1451.0932380428474, 1700]]\n",
    "\n",
    "        first = True\n",
    "        for row in X:\n",
    "            row = row[600000:5700000]\n",
    "            # This is feature selection \n",
    "            if self.images_x_from is not None and self.images_x_to is not None:\n",
    "                images = np.split(row, 176)[self.images_x_from : self.images_x_to]\n",
    "                \n",
    "                # x needs to be set for this, but don't mind at the moment\n",
    "                if self.images_y_from is not None and self.images_y_to is not None:\n",
    "                    images_new = []\n",
    "                    for image in images:\n",
    "                        images_new.append(np.split(image, 208)[self.images_y_from : self.images_y_to])\n",
    "                    images = np.array(images_new)\n",
    "\n",
    "                row = np.array(images).flatten()\n",
    "               \n",
    "                \n",
    "            splits = np.array_split(row, int(self.splits))\n",
    "                \n",
    "            features = []\n",
    "            for j, split in enumerate(splits):\n",
    "                i = int(j / len(splits) * len(self.hist_bins))\n",
    "                \n",
    "                features.append(np.histogram(split, bins=self.hist_bins[i])[0])\n",
    "\n",
    "            #print(len(features))\n",
    "            X_new.append(np.array(features).flatten())\n",
    "\n",
    "        if first:\n",
    "            #print(\"features: \"+str(len(features)))\n",
    "            first = False\n",
    "\n",
    "        return X_new\n",
    "    \n",
    "from sklearn.pipeline import Pipeline\n",
    "from sklearn.preprocessing import StandardScaler, Normalizer\n",
    "from sklearn.feature_selection import VarianceThreshold\n",
    "from sklearn.linear_model import LogisticRegression\n",
    "from sklearn.svm import LinearSVC\n",
    "#from sklearn.decomposition import TruncatedSVD\n",
    "\n",
    "pipe = Pipeline([\n",
    "    ('BinsExtraction', RandomBinsExtraction(splits=20000)),\n",
    "    ('vct', VarianceThreshold(threshold=5.0)),\n",
    "    ('scaler', StandardScaler()),\n",
    "    ('logreg', LogisticRegression(C=1.0, solver='newton-cg', n_jobs=-1))\n",
    "    #('linearSVC', LinearSVC(C=1.0, max_iter=1000))\n",
    "])"
   ]
  },
  {
   "cell_type": "code",
   "execution_count": null,
   "metadata": {},
   "outputs": [],
   "source": [
    "from sklearn.metrics import f1_score, log_loss\n",
    "pipe.fit(X_train, y_train)\n",
    "print('fitted')\n",
    "#y_pr = pipe.predict_proba(X_test); print(log_loss(y_test, y_pr))\n",
    "#y_pr_cl = np.argmax(y_pr, axis=1); \n",
    "y_pr_cl = pipe.predict(X_test)\n",
    "print(f1_score(y_test, y_pr_cl, average='micro'))\n",
    "# 0.790 \" 1000\n",
    "# 0.814  better bins 10000\n",
    "y_pr_cl"
   ]
  },
  {
   "cell_type": "code",
   "execution_count": 192,
   "metadata": {},
   "outputs": [
    {
     "name": "stderr",
     "output_type": "stream",
     "text": [
      "/usr/local/anaconda3/lib/python3.6/site-packages/sklearn/utils/validation.py:444: DataConversionWarning: Data with input dtype int64 was converted to float64 by StandardScaler.\n",
      "  warnings.warn(msg, DataConversionWarning)\n"
     ]
    },
    {
     "name": "stdout",
     "output_type": "stream",
     "text": [
      "\u001b[1;31m0.782945736434\u001b[0m \t100\n"
     ]
    }
   ],
   "source": [
    "def run(a):\n",
    "    pipe = Pipeline([\n",
    "        ('BinsExtraction', RandomBinsExtraction(splits=a)),\n",
    "        ('vct', VarianceThreshold(threshold=5.0)),\n",
    "        ('scaler', StandardScaler()),\n",
    "        ('logreg', LogisticRegression(C=1.0, solver='newton-cg', n_jobs=3))\n",
    "        #('linearSVC', LinearSVC(C=1.0, max_iter=1000))\n",
    "    ])\n",
    "    pipe.fit(X_train, y_train)\n",
    "    #y_pr = pipe.predict_proba(X_test)\n",
    "    #print(\"\\x1b[1;31m%s\\x1b[0m \\t%s\" % (log_loss(y_test, y_pr), a))\n",
    "    y_pr_cl = pipe.predict(X_test)\n",
    "    print(\"\\x1b[1;31m%s\\x1b[0m \\t%s\" % (f1_score(y_test, y_pr_cl, average='micro'), a))\n",
    "    \n",
    "for i in range(10000, 20000, 500):\n",
    "    run(i)\n",
    "#run(100)"
   ]
  },
  {
   "cell_type": "code",
   "execution_count": 216,
   "metadata": {},
   "outputs": [
    {
     "name": "stdout",
     "output_type": "stream",
     "text": [
      "[0 0 0 0 0 0 0 0 0 0 0 0 0 0 0 0 0 0 0 0 0 0 0 0 0 0 0 0 0 0 0 0 0 0 0 0 0\n",
      " 0 0 0 0 0 0 0 0 0 0 0 0 0 0 0 0 0 0 0 0 0 0 0 0 0 0 0 0 0 0 0 0 0 0 0 0 0\n",
      " 0 0 0 0 0 0 0 0 0 0 0 0 0 0 0 0 0 0 0 0 0 0 0 0 0 0 0 0 0 0 0 0 0 0 0 0 0\n",
      " 0 0 0 0 0 0 0 0 0 1 1 1 1 1 1 1 1 1 1 1 1 1 1 1 1 1 1 1 1 1 1 1 1 1 1 1 1\n",
      " 1 1 2 2 2 2 2 2 2 3 3 3 3]\n",
      "[0 0 0 0 0 0 0 0 0 0 0 0 0 0 0 0 0 0 0 0 0 0 0 0 0 0 0 0 0 0 0 0 0 0 0 0 0\n",
      " 0 0 0 0 0 0 0 0 0 0 0 0 0 0 0 0 0 0 0 0 0 0 0 0 0 0 0 0 0 0 0 0 0 0 0 0 0\n",
      " 0 0 0 0 0 0 0 0 0 0 0 0 0 0 0 0 0 0 0 0 0 0 0 0 0 0 0 0 1 1 1 1 1 1 1 1 1\n",
      " 1 1 1 1 1 1 1 1 1 1 2 2 2 2 2 3 3 3]\n"
     ]
    }
   ],
   "source": [
    "# Not random so far\n",
    "ind_train = np.concatenate((np.where(y_cl == 0)[0][0:120], np.where(y_cl == 1)[0][:30], np.where(y_cl == 2)[0][:7], np.where(y_cl == 3)[0][:4]))\n",
    "ind_test = list(set(range(0, 290)) - set(ind_train))\n",
    "print(y_cl[ind_train])\n",
    "print(y_cl[ind_test])\n",
    "#ind_train"
   ]
  },
  {
   "cell_type": "code",
   "execution_count": 206,
   "metadata": {},
   "outputs": [
    {
     "name": "stdout",
     "output_type": "stream",
     "text": [
      "0 done\n",
      "1 done\n",
      "2 done\n",
      "3 done\n",
      "4 done\n",
      "5 done\n",
      "6 done\n",
      "7 done\n",
      "8 done\n",
      "9 done\n",
      "10 done\n",
      "11 done\n"
     ]
    },
    {
     "data": {
      "text/plain": [
       "[1,\n",
       " 298.8218117717887,\n",
       " 415.59953383322301,\n",
       " 529.00853569772312,\n",
       " 637.92188924633831,\n",
       " 741.69761514701986,\n",
       " 840.16357827183447,\n",
       " 936.05487410467663,\n",
       " 1034.8715039519698,\n",
       " 1139.5417907370197,\n",
       " 1246.5076326626559,\n",
       " 1350.2613661802782,\n",
       " 1451.0932380428474]"
      ]
     },
     "execution_count": 206,
     "metadata": {},
     "output_type": "execute_result"
    }
   ],
   "source": [
    "from sklearn.cluster import KMeans\n",
    "kmeans = KMeans(n_clusters=13, n_jobs=-1, random_state=99)\n",
    "\n",
    "ind = np.concatenate((np.where(y_cl == 0)[0][0:3], np.where(y_cl == 1)[0][:3], np.where(y_cl == 2)[0][:3], np.where(y_cl == 3)[0][:3]))\n",
    "samples = np.take(X, ind, axis=0)\n",
    "centers = []\n",
    "for i, sample in enumerate(samples):\n",
    "    # sample = sample[1672390 : -786303]\n",
    "\n",
    "    sample = sample[(sample > 0) & (sample < 1800)]\n",
    "    kmeans.fit(np.array([sample]).T)\n",
    "    centers.append(np.sort(np.array(kmeans.cluster_centers_).flatten()))\n",
    "    print(str(i+1) + ' / ' + str(len(samples)))\n",
    "\n",
    "if False: # use all centers\n",
    "    values = np.array(centers).flatten()\n",
    "    values = np.sort(values)\n",
    "else: # take means of centers\n",
    "    values = np.mean(centers, axis=0)\n",
    "\n",
    "edges = [1] # leave out 0\n",
    "for center_1, center_2 in zip(values[:-1], values[1:]):\n",
    "    edges.append(.5 * (center_1 + center_2))\n",
    "edges.append(1700)\n",
    "\"\"\"\n",
    "[1, 349.57938688820047, 514.3746932858628, 669.4300432252885, 813.46816874832098, 950.71415810026383, 1094.3331288316649, 1245.2794633697374, 1390.4908175139283, 1700]\n",
    "[1, 298.8218117717887, 415.59953383322301, 529.00853569772312, 637.92188924633831, 741.69761514701986, 840.16357827183447, 936.05487410467663, 1034.8715039519698, 1139.5417907370197, 1246.5076326626559, 1350.2613661802782, 1451.0932380428474, 1700]\n",
    "\"\"\"\n",
    "edges"
   ]
  }
 ],
 "metadata": {
  "kernelspec": {
   "display_name": "Python 3",
   "language": "python",
   "name": "python3"
  },
  "language_info": {
   "codemirror_mode": {
    "name": "ipython",
    "version": 3
   },
   "file_extension": ".py",
   "mimetype": "text/x-python",
   "name": "python",
   "nbconvert_exporter": "python",
   "pygments_lexer": "ipython3",
   "version": "3.6.2"
  }
 },
 "nbformat": 4,
 "nbformat_minor": 2
}
